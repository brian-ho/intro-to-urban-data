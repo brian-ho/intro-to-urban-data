{
  "cells": [
    {
      "cell_type": "markdown",
      "metadata": {
        "id": "view-in-github",
        "colab_type": "text"
      },
      "source": [
        "<a href=\"https://colab.research.google.com/github/brian-ho/intro-to-urban-data/blob/main/Measure/M08_Working_with_Rhino_files.ipynb\" target=\"_parent\"><img src=\"https://colab.research.google.com/assets/colab-badge.svg\" alt=\"Open In Colab\"/></a>"
      ]
    },
    {
      "cell_type": "markdown",
      "metadata": {
        "id": "dvAOjku63maG"
      },
      "source": [
        "# **08 Measure** Working with Rhino Files\n",
        "```\n",
        "    Class       ARCH 6131 Urban Design Methods / Skills / Tools 1\n",
        "                Tata Innovation Center\n",
        "                Fall 2025\n",
        "                Monday 9:30 AM to 12 PM\n",
        "\n",
        "    Instructor  Brian Ho\n",
        "                brian@brian-ho.io\n",
        "```\n",
        "\n",
        "This notebook shows how you can read and write Rhinoceros 3DM files _programmatically_. This does not replace your use of Rhino as a desktop app: you will always need to work more directly as a designer. But being able to open and edit Rhino files is a powerful way to connect your data to your choice of drawing and design.\n",
        "\n",
        "This notebook covers:\n",
        "- Reading a Rhino file\n",
        "- Accessing layers and geometry\n",
        "- Creating layers and geometry\n",
        "- Saving a Rhino file"
      ]
    },
    {
      "cell_type": "markdown",
      "metadata": {
        "id": "XHnMFvYC6QdZ"
      },
      "source": [
        "Almost all the functionality in this notebook depends on a Python library from McNeel called  `rhino3dm`. This exposes functionality to read and write all geometry types, and is based on an open standard. You can learn more about it [here](https://github.com/mcneel/rhino3dm)."
      ]
    },
    {
      "cell_type": "code",
      "source": [
        "!pip install rhino3dm --quiet"
      ],
      "metadata": {
        "id": "wCNRScLntKro"
      },
      "execution_count": 4,
      "outputs": []
    },
    {
      "cell_type": "code",
      "execution_count": 3,
      "metadata": {
        "id": "HATE2fG8sxnT"
      },
      "outputs": [],
      "source": [
        "# Add McNeel's Python library\n",
        "import rhino3dm"
      ]
    },
    {
      "cell_type": "markdown",
      "metadata": {
        "id": "Skeqzu419KGa"
      },
      "source": [
        "Connect to drive to access your custom files."
      ]
    },
    {
      "cell_type": "code",
      "execution_count": null,
      "metadata": {
        "colab": {
          "base_uri": "https://localhost:8080/"
        },
        "id": "E9znzvKhvwcG",
        "outputId": "b6890aef-04c8-4e75-a8bb-c195b26d92f4"
      },
      "outputs": [
        {
          "name": "stdout",
          "output_type": "stream",
          "text": [
            "Drive already mounted at /content/drive; to attempt to forcibly remount, call drive.mount(\"/content/drive\", force_remount=True).\n"
          ]
        }
      ],
      "source": [
        "from google.colab import drive\n",
        "\n",
        "drive.mount(\"/content/drive\")"
      ]
    },
    {
      "cell_type": "code",
      "execution_count": null,
      "metadata": {
        "id": "Ih4UhskB9Pjs"
      },
      "outputs": [],
      "source": [
        "EXAMPLE_DATA_DIRECTORY = \"example_data\""
      ]
    },
    {
      "cell_type": "markdown",
      "metadata": {
        "id": "lKNYYN9d6R7E"
      },
      "source": [
        "## Reading a Rhino file\n",
        "Reading a Rhino file with `rhino3dm` is very easy! Much like reading a CSV or GeoJSON, you can use a helpful `Read()` method on a `File3dm` class.\n",
        "\n",
        "Note that `rhino3dm`'s convention is to use [camel case or Pascal case](https://en.wikipedia.org/wiki/Camel_case) for naming. This means consecutive words each have a first uppercase letter without spaces, like `NurbsCurveKnotList`. It's more common to see [snake case](https://en.wikipedia.org/wiki/Snake_case) in Python. This means consecutive words are separated by an underscore and are all lowercase, which looks something like: `read_csv`. You'll need to be sure to capitalize correctly when using `rhino3dm`."
      ]
    },
    {
      "cell_type": "code",
      "execution_count": null,
      "metadata": {
        "colab": {
          "base_uri": "https://localhost:8080/"
        },
        "id": "O_SzSgjotJKr",
        "outputId": "5c5627b5-0c54-44f5-a79a-ea0e346871bf"
      },
      "outputs": [
        {
          "name": "stdout",
          "output_type": "stream",
          "text": [
            "Reading Rhino file from: 'example_data/example_rhino_file.3dm'\n"
          ]
        },
        {
          "data": {
            "text/plain": [
              "<rhino3dm._rhino3dm.File3dm at 0x10742db30>"
            ]
          },
          "execution_count": 5,
          "metadata": {},
          "output_type": "execute_result"
        }
      ],
      "source": [
        "# Let's read a 3DM file\n",
        "# File3dm.Read() takes a string path, so you'll need to make sure your path is created correctly\n",
        "rhino_file_path = EXAMPLE_DATA_DIRECTORY + \"/example_rhino_file.3dm\"\n",
        "\n",
        "print(\n",
        "    f\"Reading Rhino file from: '{EXAMPLE_DATA_DIRECTORY + '/example_rhino_file.3dm'}'\"\n",
        ")\n",
        "example_3dm = rhino3dm.File3dm.Read(rhino_file_path)\n",
        "\n",
        "if example_3dm is None:\n",
        "    print(\n",
        "        f\"Unable to read Rhino file at '{EXAMPLE_DATA_DIRECTORY + '/example_rhino_file.3dm'}'! Did you use the right path?\"\n",
        "    )\n",
        "\n",
        "example_3dm"
      ]
    },
    {
      "cell_type": "markdown",
      "metadata": {
        "id": "InonF8P4_qw1"
      },
      "source": [
        "If you run into errors here, check your `rhino_file_path`. The `File3dm.Read()` method takes only a string as its argument for where to look for the file, rather than a smarter `Path` object. This means you have to make sure the full path is correctly written with a forward slash (\"/\") between directories.\n",
        "\n",
        "There are some useful attributes on the `File3dm` class — bits of information an object. You can read about them [here](https://mcneel.github.io/rhino3dm/python/api/File3dm.html). As you work with `rhino3dm` and other Python libraries, reading the docs will always be a good way to learn."
      ]
    },
    {
      "cell_type": "markdown",
      "metadata": {
        "id": "nK6wEycH6aNM"
      },
      "source": [
        "## Accessing layers and geometry\n",
        "So we've opened the file. What now? Usefully, we can take a look at more details about the data within the Rhino file. Let's try this with layers and geometry — the two essential building blocks for working with Rhino flies.\n",
        "\n",
        "Layers are stored on a `File3dmLayerTable` object attached to each `File3dm`. You can access it with the `Layer` property."
      ]
    },
    {
      "cell_type": "code",
      "execution_count": null,
      "metadata": {
        "colab": {
          "base_uri": "https://localhost:8080/"
        },
        "id": "47EERpI6wMgV",
        "outputId": "cda4d642-a4db-4fe0-f888-ff9956b5d070"
      },
      "outputs": [
        {
          "data": {
            "text/plain": [
              "<rhino3dm._rhino3dm.File3dmLayerTable at 0x10742f870>"
            ]
          },
          "execution_count": 6,
          "metadata": {},
          "output_type": "execute_result"
        }
      ],
      "source": [
        "# Let's look at the layers property on our Rhino file.\n",
        "example_3dm.Layers"
      ]
    },
    {
      "cell_type": "markdown",
      "metadata": {
        "id": "PDlikZVdGCQt"
      },
      "source": [
        "`Layers` returns an iterable object. By itself, this isn't that useful to look at — it's a container for more data that we want.\n",
        "\n",
        "Since the `File3dmLayerTable` is an iterable object, we can use a simple `for` loop to check out its contents. This will give us a single `Layer` object for each loop of the iteration. We can then access more meaningful attributes and properties on the layer.\n",
        "\n",
        "I've printed out some below. Check out others in the [docs](https://mcneel.github.io/rhino3dm/python/api/Layer.html)."
      ]
    },
    {
      "cell_type": "code",
      "execution_count": null,
      "metadata": {
        "colab": {
          "base_uri": "https://localhost:8080/"
        },
        "id": "Li9hSYWDw08y",
        "outputId": "f2fc18c5-0648-4a74-c60d-b01be787ea00"
      },
      "outputs": [
        {
          "name": "stdout",
          "output_type": "stream",
          "text": [
            "There are 5 layers in the Rhino file.\n",
            "\n",
            "Layer name: 'Default'\n",
            "Full path: 'Default'\n",
            "index: 0\n",
            "Visible: True\n",
            "Locked: False\n",
            "Color: (0, 0, 0, 255)\n",
            "\n",
            "Layer name: '3D Geometry'\n",
            "Full path: '3D Geometry'\n",
            "index: 1\n",
            "Visible: True\n",
            "Locked: False\n",
            "Color: (0, 0, 0, 255)\n",
            "\n",
            "Layer name: 'Volumes'\n",
            "Full path: '3D Geometry::Volumes'\n",
            "index: 2\n",
            "Visible: True\n",
            "Locked: False\n",
            "Color: (200, 0, 0, 255)\n",
            "\n",
            "Layer name: 'Surfaces'\n",
            "Full path: '3D Geometry::Surfaces'\n",
            "index: 3\n",
            "Visible: True\n",
            "Locked: False\n",
            "Color: (125, 38, 205, 255)\n",
            "\n",
            "Layer name: 'Curves'\n",
            "Full path: 'Curves'\n",
            "index: 4\n",
            "Visible: True\n",
            "Locked: False\n",
            "Color: (0, 0, 255, 255)\n",
            "\n"
          ]
        }
      ],
      "source": [
        "# Let's try iterating over the layers\n",
        "print(f\"There are {len(example_3dm.Layers)} layers in the Rhino file.\\n\")\n",
        "\n",
        "# For each layer, you can get more information\n",
        "for example_layer in example_3dm.Layers:\n",
        "    print(f\"Layer name: '{example_layer.Name}'\")\n",
        "    print(f\"Full path: '{example_layer.FullPath}'\")\n",
        "    print(f\"index: {example_layer.Index}\")\n",
        "    print(f\"Visible: {example_layer.Visible}\")\n",
        "    print(f\"Locked: {example_layer.Locked}\")\n",
        "    print(f\"Color: {example_layer.Color}\\n\")"
      ]
    },
    {
      "cell_type": "markdown",
      "metadata": {
        "id": "WC8hob374cA2"
      },
      "source": [
        "Try opening up the `example_rhino_file.3dm` file directly in Rhino and comparing it to the above. A few observations:\n",
        "\n",
        "- Nested Rhino layers have a \"::\" separator in them between child and parent layers. So \"Layer A::Layer B\" means Layer B is the child layer of Layer A\n",
        "- Each layer has a unique index\n",
        "- Layers have `bool` values (short for boolean) for their visible and locked states: e.g. they can be either `True` or `False`.\n",
        "- Layer colors are stored as tuples of RGBA type (look familiar?)"
      ]
    },
    {
      "cell_type": "markdown",
      "metadata": {
        "id": "ErUtcGOa5x9L"
      },
      "source": [
        "OK, now let's try to do the same with geometry. `File3dm.Objects` will give us `File3dmObjectTable`."
      ]
    },
    {
      "cell_type": "code",
      "execution_count": null,
      "metadata": {
        "colab": {
          "base_uri": "https://localhost:8080/"
        },
        "id": "UTxfNbX15xb4",
        "outputId": "ffe37c61-f1b8-4d80-9d8d-50301dfa7dc5"
      },
      "outputs": [
        {
          "data": {
            "text/plain": [
              "<rhino3dm._rhino3dm.File3dmObjectTable at 0x10741db30>"
            ]
          },
          "execution_count": 8,
          "metadata": {},
          "output_type": "execute_result"
        }
      ],
      "source": [
        "# Here's the object table\n",
        "example_3dm.Objects"
      ]
    },
    {
      "cell_type": "markdown",
      "metadata": {
        "id": "-wDvkPtR6ASP"
      },
      "source": [
        "As, before we can iterate over this object as if it were a list. Note that each `File3dmObject` has two main properties: `Attributes` and `Geometry`.\n",
        "\n",
        "Each stores related informatoin about the object."
      ]
    },
    {
      "cell_type": "code",
      "execution_count": null,
      "metadata": {
        "colab": {
          "base_uri": "https://localhost:8080/"
        },
        "id": "bEybg_YmsyrU",
        "outputId": "1f90617b-b97b-489d-96d1-29381ce3c859"
      },
      "outputs": [
        {
          "name": "stdout",
          "output_type": "stream",
          "text": [
            "There are 7 objects in the Rhino file.\n",
            "\n",
            "Geometry type: ObjectType.Extrusion\n",
            "ID: 'c0c3e292-2bbd-460e-9435-44528602fc4c'\n",
            "Layer: 'Volumes'\n",
            "\n",
            "Geometry type: ObjectType.Curve\n",
            "ID: '6b3a5b45-af08-4cbe-9061-a01d2a48ff8e'\n",
            "Layer: 'Curves'\n",
            "\n",
            "Geometry type: ObjectType.Brep\n",
            "ID: '1211cc07-8074-4a13-99e6-038c139d3198'\n",
            "Layer: 'Surfaces'\n",
            "\n",
            "Geometry type: ObjectType.Brep\n",
            "ID: '5c417cf2-b825-45ae-ba4d-5aa8f7697b40'\n",
            "Layer: 'Volumes'\n",
            "\n",
            "Geometry type: ObjectType.Curve\n",
            "ID: '3b83f854-68be-4268-8cbf-e897fa04f9b2'\n",
            "Layer: 'Curves'\n",
            "\n",
            "Geometry type: ObjectType.Curve\n",
            "ID: '9ede57be-3b5d-4ebd-ae6d-cbf61a330f9a'\n",
            "Layer: 'Curves'\n",
            "\n",
            "Geometry type: ObjectType.Brep\n",
            "ID: 'aa10934a-ad97-4af1-b0fa-6b40e38ac23b'\n",
            "Layer: 'Surfaces'\n",
            "\n"
          ]
        }
      ],
      "source": [
        "# Let's try iterating over the geometry\n",
        "print(f\"There are {len(example_3dm.Objects)} objects in the Rhino file.\\n\")\n",
        "\n",
        "for example_object in example_3dm.Objects:\n",
        "    # For simplicity, let's use variable to reference the attributes and geometry\n",
        "    attributes = example_object.Attributes\n",
        "    geometry = example_object.Geometry\n",
        "\n",
        "    print(f\"Geometry type: {geometry.ObjectType}\")\n",
        "    print(f\"ID: '{attributes.Id}'\")\n",
        "    # We can get the name of the layer using the layer's index\n",
        "    print(f\"Layer: '{example_3dm.Layers.FindIndex(attributes.LayerIndex).Name}'\\n\")"
      ]
    },
    {
      "cell_type": "markdown",
      "metadata": {
        "id": "aYnENZ0T6YUL"
      },
      "source": [
        "Pretty cool, right? So we can see that each object has a type, an ID and we can find its layer through the layer index."
      ]
    },
    {
      "cell_type": "markdown",
      "metadata": {
        "id": "TV8WBBbO6iaC"
      },
      "source": [
        "## Creating layers and geometry\n",
        "Now that we know how to read a Rhino file's layers and geometry, let's try it in the reverse. Can we write layers and geometry to a Rhino file? You be we can!\n",
        "\n",
        "Let's start by creating a new Rhino, empty file."
      ]
    },
    {
      "cell_type": "code",
      "execution_count": null,
      "metadata": {
        "id": "wrspg853w8d-"
      },
      "outputs": [],
      "source": [
        "# Make an empty file\n",
        "new_3dm = rhino3dm.File3dm()"
      ]
    },
    {
      "cell_type": "markdown",
      "metadata": {
        "id": "q_MSGzHmtEBO"
      },
      "source": [
        "Just like you would using the Rhino app on your desktop, you should check and set the unit system."
      ]
    },
    {
      "cell_type": "code",
      "execution_count": null,
      "metadata": {
        "colab": {
          "base_uri": "https://localhost:8080/"
        },
        "id": "Z0KsyMWR68VS",
        "outputId": "d6707084-2f68-479a-c2e1-a67cc6eab567"
      },
      "outputs": [
        {
          "name": "stdout",
          "output_type": "stream",
          "text": [
            "The file's units are in UnitSystem.Millimeters\n",
            "There are 0 layers in the file\n"
          ]
        }
      ],
      "source": [
        "# What's the unit system?\n",
        "print(f\"The file's units are in {new_3dm.Settings.ModelUnitSystem}\")\n",
        "\n",
        "# How many layers are in the empty file?\n",
        "print(f\"There are {len(new_3dm.Layers)} layers in the file\")"
      ]
    },
    {
      "cell_type": "markdown",
      "metadata": {
        "id": "EIv5pOvqtEBO"
      },
      "source": [
        "Setting the unit system is just a matter of assigning to the attribute! What you see below may be somewhat confusing: we're using a special `rhino3dm` class to represent the unit system: `UnitSystem`. This class is known as an enumeration — it can represent one of a few specific, special meanings.\n",
        "\n",
        "Internally, these are often represented as `int`s for efficiency. Enumeration lets you assign specific names to each `int`. In this case, `UnitSystem.Meters` has the value 4. Note that the `int` representation doesn't have to map to the meaning. An enumeration could represent multiple discrete meanings that have no order nor relative relationship.\n",
        "\n",
        "While the use of an enumeration here is just a detail, in the future we will return to this concept when we discuss \"categorical\" data."
      ]
    },
    {
      "cell_type": "code",
      "execution_count": null,
      "metadata": {
        "id": "EXUmnZnP7ImV",
        "outputId": "25108fe3-c2c3-41b8-929d-4b7d4f76c49d"
      },
      "outputs": [
        {
          "name": "stdout",
          "output_type": "stream",
          "text": [
            "The unit system is set to UnitSystem.Meters which has the value 4\n"
          ]
        }
      ],
      "source": [
        "# Let's set the units appropriately\n",
        "new_3dm.Settings.ModelUnitSystem = rhino3dm.UnitSystem.Meters\n",
        "\n",
        "print(\n",
        "    f\"The unit system is set to {new_3dm.Settings.ModelUnitSystem} which has the value {new_3dm.Settings.ModelUnitSystem.value}\"\n",
        ")"
      ]
    },
    {
      "cell_type": "markdown",
      "metadata": {
        "id": "haFKJVc6tEBO"
      },
      "source": [
        "Now, let's try adding a layer. There's a handy `File3dmLayerTable.AddLayer()` method, which takes two arguments: a string that names the layer, and a color (as an RGBA tuple).\n",
        "\n",
        "Let's create a simple layer. Note that 3DM files supports adding multiple layers with the same name. Much like when you use Rhino, the layers simply get a suffix."
      ]
    },
    {
      "cell_type": "code",
      "execution_count": null,
      "metadata": {
        "colab": {
          "base_uri": "https://localhost:8080/"
        },
        "id": "wTMZIiyO7Ih_",
        "outputId": "98900668-248c-4bd6-cd53-8b07e298a2b0"
      },
      "outputs": [
        {
          "data": {
            "text/plain": [
              "0"
            ]
          },
          "execution_count": 14,
          "metadata": {},
          "output_type": "execute_result"
        }
      ],
      "source": [
        "# Let's set a \"constant\" variable for red\n",
        "RED_RGBA = (255, 0, 0, 255)\n",
        "\n",
        "# Add the layer with a name and color\n",
        "new_3dm.Layers.AddLayer(\"My First Layer\", RED_RGBA)"
      ]
    },
    {
      "cell_type": "code",
      "execution_count": null,
      "metadata": {
        "colab": {
          "base_uri": "https://localhost:8080/"
        },
        "id": "tPyH_RGz8TKI",
        "outputId": "90d59ffb-122f-4b52-99ac-76dd32217b18"
      },
      "outputs": [
        {
          "name": "stdout",
          "output_type": "stream",
          "text": [
            "There are 1 layers in the file\n",
            "Layers are: ['My First Layer at index 0']\n"
          ]
        }
      ],
      "source": [
        "# Check the results\n",
        "print(f\"There are {len(new_3dm.Layers)} layers in the file\")\n",
        "print(f\"Layers are: {[f'{l.FullPath} at index {l.Index}' for l in new_3dm.Layers]}\")"
      ]
    },
    {
      "cell_type": "markdown",
      "metadata": {
        "id": "ribbgX878s8P"
      },
      "source": [
        "That's all it takes to add layer!\n",
        "\n",
        "Layers are more straightforward than geometry, unfortunately. Geometry iis added to the `File3dmObjectTable`, but doing so requires you define both a geometry primitive that is one of a `BaseGeometry` type, as well as a set of attributes for things like the layer of the geometry.\n",
        "\n",
        "Let's start with a simple `Point`. You need to construct a `Point` object using one argument: its 3D location, which is represented by a `Point3d` object."
      ]
    },
    {
      "cell_type": "code",
      "execution_count": null,
      "metadata": {
        "id": "kjcUSgl78teo"
      },
      "outputs": [],
      "source": [
        "# Point\n",
        "# First, create a point geometry from a 3D location\n",
        "test_pt = rhino3dm.Point(rhino3dm.Point3d(0, 0, 0))"
      ]
    },
    {
      "cell_type": "markdown",
      "metadata": {
        "id": "djQkQJFitEBO"
      },
      "source": [
        "⚠ **Point and Point3d are not the same, and you can only add Point objects!**\n",
        "\n",
        "_You can only add geometry that is derived from `BaseGeometry`. The `Point` class is one such example. The `Point3d` class, on the other hand, is used to represent locations in space, but is not itself a geometry._\n"
      ]
    },
    {
      "cell_type": "markdown",
      "metadata": {
        "id": "0sRZVSs7tEBO"
      },
      "source": [
        "Next, we can set up attributes. As you might know from using Rhino on your computer, there are many attributes you can set on a geometry object. In our case, we just want to set the layer. But take a look at the [docs](https://mcneel.github.io/rhino3dm/python/api/ObjectAttributes.html) and see if there are other pieces of information you want to set.\n",
        "\n",
        "We do this by first creating a `ObjectAttributes` object, then settinig its `LayerIndex` attribute. \"0\" is the index for the single layer we added previously."
      ]
    },
    {
      "cell_type": "code",
      "execution_count": null,
      "metadata": {
        "id": "vdk2qrs99ON8"
      },
      "outputs": [],
      "source": [
        "# Let's define geometry attributes that we can re-use\n",
        "test_attributes = rhino3dm.ObjectAttributes()\n",
        "\n",
        "# This sets the attributes so that the objects is on the layer with index 0\n",
        "test_attributes.LayerIndex = 0"
      ]
    },
    {
      "cell_type": "markdown",
      "metadata": {
        "id": "Z4TsGTBEtEBO"
      },
      "source": [
        "OK, now that we have both geometry and attributes, we can add them to the Rhino file! If this works, the `File3dmObjectTable.Add()` method will return the Universally Unique Identified (UUID) for the geometry."
      ]
    },
    {
      "cell_type": "code",
      "execution_count": null,
      "metadata": {
        "colab": {
          "base_uri": "https://localhost:8080/"
        },
        "id": "sYtTipdM-0iT",
        "outputId": "165ac516-17b5-4a3b-96d5-4e4962e012da"
      },
      "outputs": [
        {
          "data": {
            "text/plain": [
              "UUID('fbc033e5-f3b3-4746-8b47-a6f8222f1891')"
            ]
          },
          "execution_count": 18,
          "metadata": {},
          "output_type": "execute_result"
        }
      ],
      "source": [
        "# Add the geometry and object to the Rhino file\n",
        "new_3dm.Objects.Add(test_pt, test_attributes)"
      ]
    },
    {
      "cell_type": "markdown",
      "metadata": {
        "id": "744nKVcTtEBO"
      },
      "source": [
        "... and we can also check to see that the object table has been incremented."
      ]
    },
    {
      "cell_type": "code",
      "execution_count": null,
      "metadata": {
        "colab": {
          "base_uri": "https://localhost:8080/"
        },
        "id": "futSRF0H88A2",
        "outputId": "7a53118b-949a-49b0-aaf4-c120d1898d65"
      },
      "outputs": [
        {
          "name": "stdout",
          "output_type": "stream",
          "text": [
            "There are 1 objects in the Rhino file.\n"
          ]
        }
      ],
      "source": [
        "print(f\"There are {len(new_3dm.Objects)} objects in the Rhino file.\")"
      ]
    },
    {
      "cell_type": "markdown",
      "metadata": {
        "id": "vuULjs7ZGrGo"
      },
      "source": [
        "So that's how you add a `Point`. What about other geometry?\n",
        "\n",
        "Again, there's some nuance. You can only add geometry that is derived from `GeometryBase`. For reference, I've printed them out below."
      ]
    },
    {
      "cell_type": "code",
      "execution_count": null,
      "metadata": {
        "colab": {
          "base_uri": "https://localhost:8080/"
        },
        "id": "Whk6ZIZLC3EF",
        "outputId": "10b066d0-cec7-4468-e641-daa381e56907"
      },
      "outputs": [
        {
          "name": "stdout",
          "output_type": "stream",
          "text": [
            "BaseGeometry types in rhino3dm are:\n",
            "- BrepFace https://mcneel.github.io/rhino3dm/python/api/BrepFace\n",
            "- CurveProxy https://mcneel.github.io/rhino3dm/python/api/CurveProxy\n",
            "- PolylineCurve https://mcneel.github.io/rhino3dm/python/api/PolylineCurve\n",
            "- Brep https://mcneel.github.io/rhino3dm/python/api/Brep\n",
            "- InstanceReference https://mcneel.github.io/rhino3dm/python/api/InstanceReference\n",
            "- PointGrid https://mcneel.github.io/rhino3dm/python/api/PointGrid\n",
            "- PolyCurve https://mcneel.github.io/rhino3dm/python/api/PolyCurve\n",
            "- Curve https://mcneel.github.io/rhino3dm/python/api/Curve\n",
            "- Surface https://mcneel.github.io/rhino3dm/python/api/Surface\n",
            "- ArcCurve https://mcneel.github.io/rhino3dm/python/api/ArcCurve\n",
            "- SurfaceProxy https://mcneel.github.io/rhino3dm/python/api/SurfaceProxy\n",
            "- Hatch https://mcneel.github.io/rhino3dm/python/api/Hatch\n",
            "- PointCloud https://mcneel.github.io/rhino3dm/python/api/PointCloud\n",
            "- Extrusion https://mcneel.github.io/rhino3dm/python/api/Extrusion\n",
            "- Point https://mcneel.github.io/rhino3dm/python/api/Point\n",
            "- RevSurface https://mcneel.github.io/rhino3dm/python/api/RevSurface\n",
            "- BrepEdge https://mcneel.github.io/rhino3dm/python/api/BrepEdge\n",
            "- NurbsCurve https://mcneel.github.io/rhino3dm/python/api/NurbsCurve\n",
            "- Light https://mcneel.github.io/rhino3dm/python/api/Light\n",
            "- TextDot https://mcneel.github.io/rhino3dm/python/api/TextDot\n",
            "- AnnotationBase https://mcneel.github.io/rhino3dm/python/api/AnnotationBase\n",
            "- Mesh https://mcneel.github.io/rhino3dm/python/api/Mesh\n",
            "- SubD https://mcneel.github.io/rhino3dm/python/api/SubD\n",
            "- PlaneSurface https://mcneel.github.io/rhino3dm/python/api/PlaneSurface\n",
            "- LineCurve https://mcneel.github.io/rhino3dm/python/api/LineCurve\n",
            "- NurbsSurface https://mcneel.github.io/rhino3dm/python/api/NurbsSurface\n"
          ]
        }
      ],
      "source": [
        "def get_subclasses(cls):\n",
        "    \"\"\"A helper to recursively get the subclasses for a given base class.\n",
        "\n",
        "    Uses a set to de-dupe in the case of multiple inheritance.\n",
        "    \"\"\"\n",
        "    return set(cls.__subclasses__()).union(\n",
        "        [sc for cl in cls.__subclasses__() for sc in get_subclasses(cl)]\n",
        "    )\n",
        "\n",
        "\n",
        "base_geometry_types = get_subclasses(rhino3dm.GeometryBase)\n",
        "\n",
        "print(\"BaseGeometry types in rhino3dm are:\")\n",
        "for bg in base_geometry_types:\n",
        "    print(\n",
        "        \"- \" + bg.__name__,\n",
        "        \"https://mcneel.github.io/rhino3dm/python/api/\" + bg.__name__,\n",
        "    )"
      ]
    },
    {
      "cell_type": "markdown",
      "metadata": {
        "id": "ncjSqJabtEBS"
      },
      "source": [
        "So, with that in mind, you could look at the docs for each type, and learn how to create them!\n",
        "\n",
        "I've given a few more examples below, to illustrate some of the more common types and how to work with them. Notice that while it's easy to create a `Polyline` or `Line`, you will always need to add `PolylineCurve` or `LineCurve` objects. So its helpful to understand how to add those.\n"
      ]
    },
    {
      "cell_type": "code",
      "execution_count": null,
      "metadata": {
        "id": "Y-4U81i-8YmW"
      },
      "outputs": [],
      "source": [
        "# Line\n",
        "# The line requires two 3D locatons for its start and end\n",
        "test_line = rhino3dm.LineCurve(rhino3dm.Point3d(0, 0, 0), rhino3dm.Point3d(10, 10, 10))\n",
        "\n",
        "# Polylne\n",
        "# A polyline can be made from a list of points\n",
        "test_polyline = rhino3dm.Polyline(\n",
        "    [\n",
        "        rhino3dm.Point3d(0, 0, 0),\n",
        "        rhino3dm.Point3d(0, 10, 0),\n",
        "        rhino3dm.Point3d(0, 10, 10),\n",
        "        rhino3dm.Point3d(10, 10, 10),\n",
        "    ]\n",
        ").ToPolylineCurve()\n",
        "\n",
        "# Planar polyline curve\n",
        "# We create this by converting a polyline to a curve\n",
        "test_polyline_curve = rhino3dm.Polyline(\n",
        "    [\n",
        "        rhino3dm.Point3d(0, 0, 0),\n",
        "        rhino3dm.Point3d(-10, 0, 0),\n",
        "        rhino3dm.Point3d(-10, -10, 0),\n",
        "        rhino3dm.Point3d(0, -10, 0),\n",
        "        rhino3dm.Point3d(0, 0, 0),\n",
        "    ]\n",
        ").ToPolylineCurve()\n",
        "\n",
        "# Extrusion\n",
        "# Finally, you can make a 3D extrusion from a polyline curve\n",
        "test_extrusion = rhino3dm.Extrusion.Create(test_polyline_curve, height=20, cap=True)"
      ]
    },
    {
      "cell_type": "markdown",
      "metadata": {
        "id": "qYCmvn7wtEBS"
      },
      "source": [
        "And, each geometry type has helpful attributes and properties."
      ]
    },
    {
      "cell_type": "code",
      "execution_count": null,
      "metadata": {
        "colab": {
          "base_uri": "https://localhost:8080/"
        },
        "id": "j2LrMaO9Ewfi",
        "outputId": "8e56c542-c624-4207-e5ea-ebe3e2bec4b5"
      },
      "outputs": [
        {
          "data": {
            "text/plain": [
              "False"
            ]
          },
          "execution_count": 22,
          "metadata": {},
          "output_type": "execute_result"
        }
      ],
      "source": [
        "test_polyline.IsClosed"
      ]
    },
    {
      "cell_type": "markdown",
      "metadata": {
        "id": "WKwf7wCAtEBS"
      },
      "source": [
        "Now that we've created a bunch of geometry, let's try to add them to the file. First — in case you need it — you can delete all geometry from the file.\n",
        "\n",
        "⚠ **This code will delete any and all objects from your Rhino file!**\n",
        "\n",
        "_You can only add geometry that is derived from `BaseGeometry`. The `Point` class is one such example. The `Point3d` class, on the other hand, is used to represent locations in space, but is not itself a geometry._\n",
        "\n"
      ]
    },
    {
      "cell_type": "code",
      "execution_count": null,
      "metadata": {
        "colab": {
          "base_uri": "https://localhost:8080/"
        },
        "id": "NVD64DR-F70R",
        "outputId": "7be37958-90b6-4cab-ee1a-2c82f0dc3157"
      },
      "outputs": [
        {
          "name": "stdout",
          "output_type": "stream",
          "text": [
            "Removing all other objects in the file.\n",
            "Removing object ID fbc033e5-f3b3-4746-8b47-a6f8222f1891 ...\n"
          ]
        }
      ],
      "source": [
        "ids_to_delete = [o.Attributes.Id for o in new_3dm.Objects]\n",
        "\n",
        "print(\"Removing all other objects in the file.\")\n",
        "for id_to_delete in ids_to_delete:\n",
        "    print(f\"Removing object ID {id_to_delete} ...\")\n",
        "    new_3dm.Objects.Delete(id_to_delete)"
      ]
    },
    {
      "cell_type": "markdown",
      "metadata": {
        "id": "Wb-YxpAatEBS"
      },
      "source": [
        "Now, let's add the the geometry you created previously. Again, we'll add both a geometry and attributes object each time."
      ]
    },
    {
      "cell_type": "code",
      "execution_count": null,
      "metadata": {
        "colab": {
          "base_uri": "https://localhost:8080/"
        },
        "id": "N_w3S7aMBFks",
        "outputId": "f1212938-0897-4a20-bbfa-27a4ca68960c"
      },
      "outputs": [
        {
          "name": "stdout",
          "output_type": "stream",
          "text": [
            "Adding ObjectType.Point to flie ...\n",
            "Adding ObjectType.Curve to flie ...\n",
            "Adding ObjectType.Curve to flie ...\n",
            "Adding ObjectType.Curve to flie ...\n",
            "Adding ObjectType.Extrusion to flie ...\n"
          ]
        }
      ],
      "source": [
        "objects_to_add = [\n",
        "    test_pt,\n",
        "    test_line,\n",
        "    test_polyline,\n",
        "    test_polyline_curve,\n",
        "    test_extrusion,\n",
        "]\n",
        "\n",
        "for object_to_add in objects_to_add:\n",
        "    print(f\"Adding {object_to_add.ObjectType} to file ...\")\n",
        "    new_3dm.Objects.Add(object_to_add, test_attributes)"
      ]
    },
    {
      "cell_type": "markdown",
      "metadata": {
        "id": "JN43A7UttEBS"
      },
      "source": [
        "And that's it! You should now have 5 shiny new geometry in the Rhino file, all on the same layer."
      ]
    },
    {
      "cell_type": "code",
      "execution_count": null,
      "metadata": {
        "colab": {
          "base_uri": "https://localhost:8080/"
        },
        "id": "eKUoCX6sD0P5",
        "outputId": "c8688d09-3ce7-4a8d-d7cd-4743160787e9"
      },
      "outputs": [
        {
          "name": "stdout",
          "output_type": "stream",
          "text": [
            "There are 5 objects in the Rhino file.\n"
          ]
        }
      ],
      "source": [
        "print(f\"There are {len(new_3dm.Objects)} objects in the Rhino file.\")"
      ]
    },
    {
      "cell_type": "markdown",
      "metadata": {
        "id": "w-zt-4wD6jWn"
      },
      "source": [
        "## Saving a Rhino flie\n",
        "Saving is simple! Be sure to set your version appropriately."
      ]
    },
    {
      "cell_type": "code",
      "execution_count": null,
      "metadata": {
        "colab": {
          "base_uri": "https://localhost:8080/"
        },
        "id": "jMnKjhmn6lne",
        "outputId": "6be9d975-a065-4bdd-beef-8dbc7c94f61c"
      },
      "outputs": [
        {
          "data": {
            "text/plain": [
              "True"
            ]
          },
          "execution_count": 26,
          "metadata": {},
          "output_type": "execute_result"
        }
      ],
      "source": [
        "new_3dm.Write(\"saved_example_rhino_file.3dm\", version=7)"
      ]
    }
  ],
  "metadata": {
    "colab": {
      "provenance": [],
      "include_colab_link": true
    },
    "kernelspec": {
      "display_name": "venv",
      "language": "python",
      "name": "python3"
    },
    "language_info": {
      "codemirror_mode": {
        "name": "ipython",
        "version": 3
      },
      "file_extension": ".py",
      "mimetype": "text/x-python",
      "name": "python",
      "nbconvert_exporter": "python",
      "pygments_lexer": "ipython3",
      "version": "3.10.13"
    }
  },
  "nbformat": 4,
  "nbformat_minor": 0
}